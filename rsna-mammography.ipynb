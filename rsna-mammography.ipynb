{
 "cells": [
  {
   "cell_type": "code",
   "execution_count": null,
   "metadata": {},
   "outputs": [],
   "source": [
    "!pip install seaborn --quiet"
   ]
  },
  {
   "cell_type": "code",
   "execution_count": 1,
   "metadata": {
    "_cell_guid": "b1076dfc-b9ad-4769-8c92-a6c4dae69d19",
    "_uuid": "8f2839f25d086af736a60e9eeb907d3b93b6e0e5"
   },
   "outputs": [],
   "source": [
    "import warnings\n",
    "warnings.filterwarnings('ignore')\n",
    "\n",
    "import numpy as np \n",
    "import pandas as pd \n",
    "import matplotlib.pyplot as plt\n",
    "import seaborn as sns\n",
    "import os\n",
    "from tqdm import tqdm\n",
    "import gc\n",
    "import cv2\n",
    "from sklearn.model_selection import train_test_split\n",
    "from sklearn.metrics import confusion_matrix\n",
    "from torch.utils.data import Dataset, DataLoader\n",
    "import torch\n",
    "import torch.nn as nn\n",
    "import torch.nn.functional as F"
   ]
  },
  {
   "cell_type": "code",
   "execution_count": 2,
   "metadata": {},
   "outputs": [
    {
     "name": "stdout",
     "output_type": "stream",
     "text": [
      "Device is: cpu\n"
     ]
    }
   ],
   "source": [
    "device = torch.device('cuda' if torch.cuda.is_available() else 'cpu')\n",
    "print('Device is:',device)"
   ]
  },
  {
   "cell_type": "code",
   "execution_count": 3,
   "metadata": {},
   "outputs": [],
   "source": [
    "#train_csv_path = \"/kaggle/input/rsna-breast-cancer-detection/train.csv\"\n",
    "#train_image_dir = \"/kaggle/input/rsna-mammogram-pngs-enhanced/png_train_images\""
   ]
  },
  {
   "cell_type": "code",
   "execution_count": 5,
   "metadata": {},
   "outputs": [],
   "source": [
    "#train = pd.read_csv(train_csv_path)\n",
    "#train"
   ]
  },
  {
   "cell_type": "code",
   "execution_count": 12,
   "metadata": {},
   "outputs": [],
   "source": [
    "import os\n",
    "\n",
    "folder_path = 'png_train_images/'  \n",
    "files = os.listdir(folder_path)"
   ]
  },
  {
   "cell_type": "code",
   "execution_count": 20,
   "metadata": {},
   "outputs": [
    {
     "name": "stderr",
     "output_type": "stream",
     "text": [
      "100%|██████████████████████████████████| 54706/54706 [00:02<00:00, 26699.43it/s]\n"
     ]
    }
   ],
   "source": [
    "from pathlib import Path\n",
    "\n",
    "train = pd.read_csv(\"train.csv\")\n",
    "\n",
    "train_image_dir  = Path('png_train_images/')\n",
    "\n",
    "path = []\n",
    "for i in tqdm(range(len(df))):\n",
    "    row = train.iloc[i, :]\n",
    "    filename = str(row.patient_id) + \"/\" + str(row.image_id) + \".png\"\n",
    "    path.append(image_path /  filename )\n",
    "train[\"path\"] = path"
   ]
  },
  {
   "cell_type": "code",
   "execution_count": 21,
   "metadata": {},
   "outputs": [
    {
     "data": {
      "text/html": [
       "<div>\n",
       "<style scoped>\n",
       "    .dataframe tbody tr th:only-of-type {\n",
       "        vertical-align: middle;\n",
       "    }\n",
       "\n",
       "    .dataframe tbody tr th {\n",
       "        vertical-align: top;\n",
       "    }\n",
       "\n",
       "    .dataframe thead th {\n",
       "        text-align: right;\n",
       "    }\n",
       "</style>\n",
       "<table border=\"1\" class=\"dataframe\">\n",
       "  <thead>\n",
       "    <tr style=\"text-align: right;\">\n",
       "      <th></th>\n",
       "      <th>patient_id</th>\n",
       "      <th>image_id</th>\n",
       "      <th>cancer</th>\n",
       "      <th>difficult_negative_case</th>\n",
       "      <th>file_path</th>\n",
       "    </tr>\n",
       "  </thead>\n",
       "  <tbody>\n",
       "    <tr>\n",
       "      <th>0</th>\n",
       "      <td>10006</td>\n",
       "      <td>462822612</td>\n",
       "      <td>0</td>\n",
       "      <td>False</td>\n",
       "      <td>png_train_images/10006/462822612.png</td>\n",
       "    </tr>\n",
       "  </tbody>\n",
       "</table>\n",
       "</div>"
      ],
      "text/plain": [
       "   patient_id   image_id  cancer  difficult_negative_case  \\\n",
       "0       10006  462822612       0                    False   \n",
       "\n",
       "                              file_path  \n",
       "0  png_train_images/10006/462822612.png  "
      ]
     },
     "execution_count": 21,
     "metadata": {},
     "output_type": "execute_result"
    }
   ],
   "source": [
    "images_ = train[['patient_id', 'image_id', 'cancer','difficult_negative_case']]\n",
    "images_['file_path'] = images_.apply(lambda x: os.path.join(train_image_dir, str(x.patient_id), str(x.image_id) + '.png'), axis=1)\n",
    "images_.head(1)"
   ]
  },
  {
   "cell_type": "markdown",
   "metadata": {},
   "source": [
    "#### The number and proportion of the positive and negative cases"
   ]
  },
  {
   "cell_type": "code",
   "execution_count": null,
   "metadata": {
    "_kg_hide-input": true
   },
   "outputs": [],
   "source": [
    "pro = images_.groupby('cancer')[\"difficult_negative_case\"].value_counts().reset_index(drop=True)\n",
    "pro['proportion'] = pro['count']/len(images_)\n",
    "display(pro)"
   ]
  },
  {
   "cell_type": "code",
   "execution_count": 38,
   "metadata": {},
   "outputs": [
    {
     "data": {
      "image/png": "[encoded data removed]",
      "text/plain": [
       "<Figure size 640x480 with 1 Axes>"
      ]
     },
     "metadata": {},
     "output_type": "display_data"
    }
   ],
   "source": [
    "import matplotlib.pyplot as plt\n",
    "import seaborn as sns\n",
    "\n",
    "def has_cancer(c):\n",
    "    return c > 0\n",
    "\n",
    "cancer_per_patient = train.groupby(\"patient_id\")[\"cancer\"].sum().apply(has_cancer)\n",
    "\n",
    "ax = sns.countplot(x=cancer_per_patient)\n",
    "ax.bar_label(ax.containers[0])\n",
    "\n",
    "plt.xlabel(\"Cancer\")\n",
    "plt.ylabel(\"Count\")\n",
    "plt.title(\"Number of patients with cancer\")\n",
    "\n",
    "plt.show()"
   ]
  },
  {
   "cell_type": "markdown",
   "metadata": {},
   "source": [
    "#### The age distribution"
   ]
  },
  {
   "cell_type": "code",
   "execution_count": 39,
   "metadata": {},
   "outputs": [
    {
     "data": {
      "text/plain": [
       "<seaborn.axisgrid.FacetGrid at 0x2968962d0>"
      ]
     },
     "execution_count": 39,
     "metadata": {},
     "output_type": "execute_result"
    },
    {
     "data": {
      "image/png": "[encoded data removed]",
      "text/plain": [
       "<Figure size 600x300 with 2 Axes>"
      ]
     },
     "metadata": {},
     "output_type": "display_data"
    }
   ],
   "source": [
    "g = sns.FacetGrid(train, col = 'cancer')\n",
    "g.map(sns.histplot, 'age' )\n",
    "\n",
    "### Alternative: detailed and bigger view\n",
    "# sns.displot(train[train['cancer']==1].age, bins=50, kde=True)\n",
    "# sns.displot(train[train['cancer']==0].age, bins=50, kde=True)\n",
    "# plt.show()"
   ]
  },
  {
   "cell_type": "markdown",
   "metadata": {},
   "source": [
    "#### As Cancer and not cancer are unbalanced interms of samples , we would have to sample data from both class so that model gets the general undrstanding of what both type of data looks like"
   ]
  },
  {
   "cell_type": "code",
   "execution_count": 59,
   "metadata": {},
   "outputs": [],
   "source": [
    "# Keep only certain negatives\n",
    "not_cancer = images_[(images_['cancer'] == 0) & (images_['difficult_negative_case'] == False)]\n",
    "# And all cancers\n",
    "with_cancer = images_[images_['cancer'] == 1]\n",
    "\n",
    "# Dividing into train and validation sets\n",
    "with_cancer_train, with_cancer_val = train_test_split(with_cancer, test_size=158, train_size=1000)\n",
    "not_cancer_train, not_cancer_val = train_test_split(not_cancer, test_size=158)"
   ]
  },
  {
   "cell_type": "markdown",
   "metadata": {},
   "source": [
    "# Training and validation data generator"
   ]
  },
  {
   "cell_type": "code",
   "execution_count": 60,
   "metadata": {},
   "outputs": [],
   "source": [
    "class BreastCancerDataset(Dataset):\n",
    "    def __init__(self, positive_data, negative_data, image_size):\n",
    "        self.p_data = positive_data \n",
    "        self.n_data = negative_data \n",
    "        self.data_cnt = max(len(positive_data),len(negative_data))\n",
    "        # resoluton of the image required by the model\n",
    "        self.image_size = image_size\n",
    "            \n",
    "    def __len__(self):\n",
    "        return self.data_cnt\n",
    "                \n",
    "    def normalize_image(self, image):\n",
    "        min_val = np.min(image)\n",
    "        max_val = np.max(image)\n",
    "        image = (image - min_val) / (max_val - min_val)\n",
    "        return image\n",
    "                \n",
    "    def __getitem__(self, index):\n",
    "        # Alternate the postive and negative samples\n",
    "        file_path = ''\n",
    "        label = 0\n",
    "        if (index % 2) == 0:\n",
    "            file_path = self.p_data.file_path.iloc[index % 1000] # we have max 1000 positive samples\n",
    "            label = 1\n",
    "        else:\n",
    "            file_path = self.n_data.file_path.iloc[index]\n",
    "        \n",
    "        try:\n",
    "            image = cv2.imread(file_path, cv2.IMREAD_GRAYSCALE)\n",
    "            image = cv2.resize(image, (self.image_size[1], self.image_size[0]))\n",
    "            image = np.expand_dims(image, axis=-1)\n",
    "            image = np.transpose(image, (2, 0, 1))\n",
    "            image = self.normalize_image(image)\n",
    "            return image, np.eye(2)[label]\n",
    "        except Exception as e:\n",
    "            print(f'Error loading image from {file_path}: {str(e)}')\n",
    "            return None, None"
   ]
  },
  {
   "cell_type": "code",
   "execution_count": 61,
   "metadata": {},
   "outputs": [],
   "source": [
    "# Define batch size and target size\n",
    "batch_size = 100\n",
    "image_size = (256, 256)\n",
    "\n",
    "# Create data generators using tf.data\n",
    "train_dataset = BreastCancerDataset(with_cancer_train, not_cancer_train, image_size)\n",
    "val_dataset = BreastCancerDataset(with_cancer_val, not_cancer_val, image_size)"
   ]
  },
  {
   "cell_type": "code",
   "execution_count": 62,
   "metadata": {},
   "outputs": [
    {
     "data": {
      "text/plain": [
       "torch.Size([100, 2])"
      ]
     },
     "execution_count": 62,
     "metadata": {},
     "output_type": "execute_result"
    }
   ],
   "source": [
    "train_loader = DataLoader(train_dataset, batch_size=batch_size, shuffle=True, num_workers=0)\n",
    "val_loader = DataLoader(val_dataset, batch_size=batch_size, shuffle=True, num_workers=0)\n",
    "\n",
    "next(iter(val_loader))[1].shape"
   ]
  },
  {
   "cell_type": "code",
   "execution_count": 66,
   "metadata": {},
   "outputs": [],
   "source": [
    "class MyConvNet(nn.Module):\n",
    "    def __init__(self):\n",
    "        super(MyConvNet, self).__init__()\n",
    "        self.conv1 = nn.Conv2d(in_channels=1, out_channels=32, kernel_size=5)\n",
    "        self.bn1 = nn.BatchNorm2d(32)\n",
    "        self.pool = nn.MaxPool2d(kernel_size=2, stride=2)\n",
    "        self.conv2 = nn.Conv2d(in_channels=32, out_channels=64, kernel_size=5)\n",
    "        self.bn2 = nn.BatchNorm2d(64)\n",
    "\n",
    "        self.fc_input_size = self.calculate_fc_input_size()\n",
    "\n",
    "        self.fc1 = nn.Linear(self.fc_input_size, 256)\n",
    "        self.fc2 = nn.Linear(256, 256)\n",
    "        self.fc3 = nn.Linear(256, 2)  \n",
    "        self.fc4 = nn.Softmax()\n",
    "\n",
    "    def calculate_fc_input_size(self):\n",
    "        x = torch.randn(32, 1, 256, 256)\n",
    "        x = self.pool(F.relu(self.conv1(x)))\n",
    "        x = self.pool(F.relu(self.conv2(x)))\n",
    "        size = x.view(x.size(0), -1).size(1)\n",
    "        print(\"Calculated FC Input Size:\", size)\n",
    "        return size\n",
    "\n",
    "    def forward(self, x):\n",
    "        x = self.pool(F.relu(self.conv1(x)))\n",
    "        x = self.pool(F.relu(self.conv2(x)))\n",
    "        x = x.view(x.size(0), -1)\n",
    "        x = F.relu(self.fc1(x))\n",
    "        x = F.relu(self.fc2(x))\n",
    "        x = self.fc3(x)\n",
    "        x = self.fc4(x)\n",
    "        return x\n"
   ]
  },
  {
   "cell_type": "code",
   "execution_count": 67,
   "metadata": {},
   "outputs": [
    {
     "name": "stdout",
     "output_type": "stream",
     "text": [
      "Calculated FC Input Size: 238144\n"
     ]
    }
   ],
   "source": [
    "if torch.cuda.is_available():\n",
    "      net = MyConvNet().cuda()\n",
    "else:\n",
    "      net = MyConvNet()"
   ]
  },
  {
   "cell_type": "code",
   "execution_count": 68,
   "metadata": {},
   "outputs": [
    {
     "name": "stdout",
     "output_type": "stream",
     "text": [
      "epoch  0  train_loss  0.5542668672828758  test_loss  0.747729480266571\n",
      "epoch  1  train_loss  0.36270031332969666  test_loss  0.8001757562160492\n"
     ]
    }
   ],
   "source": [
    "loss_fn = torch.nn.CrossEntropyLoss()\n",
    "\n",
    "learning_rate = 1e-4\n",
    "optimizer = torch.optim.Adam(net.parameters(), lr=learning_rate)\n",
    "train_losses = []\n",
    "test_losses = []\n",
    "running_loss = 0\n",
    "\n",
    "for epoch in (range(2)):\n",
    "    train_loss = []\n",
    "    test_loss = []\n",
    "                \n",
    "    for i, (image, label) in enumerate(train_loader):\n",
    "        X = image.to(device=device, dtype=torch.float32)\n",
    "        y = label.to(device=device, dtype=torch.float32)  \n",
    "\n",
    "        y_pred = net(X)\n",
    "        loss = loss_fn(y_pred, y)\n",
    "\n",
    "        optimizer.zero_grad()\n",
    "        loss.backward()\n",
    "\n",
    "        torch.nn.utils.clip_grad_norm_(net.parameters(), max_norm=1)\n",
    "\n",
    "        optimizer.step()\n",
    "        train_loss.append(loss.item())\n",
    "\n",
    "\n",
    "    with torch.no_grad():\n",
    "        for i, batch in enumerate(val_loader):\n",
    "            X_test_batch, y_test_batch = batch\n",
    "            X_test_batch = X_test_batch.to(device=device, dtype=torch.float32)\n",
    "            y_test_batch = y_test_batch.to(device=device, dtype=torch.float32)\n",
    "            y_test_pred = net(X_test_batch)\n",
    "            test_l = loss_fn(y_test_pred, y_test_batch)\n",
    "            test_loss.append(test_l.item())\n",
    "\n",
    "    train_losses.append(np.mean(train_loss))\n",
    "    test_losses.append(np.mean(test_loss))\n",
    "    print('epoch ',epoch, ' train_loss ',np.mean(np.mean(train_loss)), ' test_loss ',np.mean(test_loss))"
   ]
  }
 ],
 "metadata": {
  "kaggle": {
   "accelerator": "none",
   "dataSources": [
    {
     "databundleVersionId": 4629629,
     "sourceId": 39272,
     "sourceType": "competition"
    },
    {
     "datasetId": 2937417,
     "sourceId": 5058945,
     "sourceType": "datasetVersion"
    }
   ],
   "dockerImageVersionId": 30559,
   "isGpuEnabled": false,
   "isInternetEnabled": true,
   "language": "python",
   "sourceType": "notebook"
  },
  "kernelspec": {
   "display_name": "Python 3 (ipykernel)",
   "language": "python",
   "name": "python3"
  },
  "language_info": {
   "codemirror_mode": {
    "name": "ipython",
    "version": 3
   },
   "file_extension": ".py",
   "mimetype": "text/x-python",
   "name": "python",
   "nbconvert_exporter": "python",
   "pygments_lexer": "ipython3",
   "version": "3.11.3"
  }
 },
 "nbformat": 4,
 "nbformat_minor": 4
}
